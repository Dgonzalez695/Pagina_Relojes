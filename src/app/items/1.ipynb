{
 "cells": [
  {
   "cell_type": "markdown",
   "metadata": {},
   "source": [
    "# Stock and Watson CPS Data Sets **(CPSSW9298)**\n",
    "\n",
    "Proporcionan varios subconjuntos creados a partir de las Encuestas de población actual (CPS) de marzo, con datos sobre la relación entre los ingresos y la educación durante varios años.\n",
    "\n",
    "La encuesta de población Actual (CPS), proporciona datos sobre las características de la fuerza laboral de la población, incluido el nivel de empleo, desempleo e ingresos. Cada mes se encuestan aproximadamente 65.000 hogares estadounidenses seleccionados al azar.\n",
    "La muestra se elige seleccionando aleatoriamente direcciones de una base de datos.\n",
    "\n",
    "**CPSSW9298:** *Un marco de datos que contiene 13.501 observaciones sobre 5 variables, proporcionar datos de 1992 y 1998.*\n"
   ]
  }
 ],
 "metadata": {
  "interpreter": {
   "hash": "016edc5610673b928f0150d5e24308544622aee8b9e4c87a0ebc66dc7ff84aa4"
  },
  "kernelspec": {
   "display_name": "Python 3.9.5 ('base')",
   "language": "python",
   "name": "python3"
  },
  "language_info": {
   "name": "python",
   "version": "3.9.5"
  },
  "orig_nbformat": 4
 },
 "nbformat": 4,
 "nbformat_minor": 2
}
